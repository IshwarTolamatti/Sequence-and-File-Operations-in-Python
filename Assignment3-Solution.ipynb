{
 "cells": [
  {
   "cell_type": "code",
   "execution_count": 1,
   "metadata": {},
   "outputs": [
    {
     "name": "stdout",
     "output_type": "stream",
     "text": [
      "Enter your 12 digits Alphanumeric Reference ID: YoYoYo123123\n",
      "Refernce ID is perfect:  YoYoYo123123\n",
      "Your EncryptedID is: 321321@!@oYoYoY\n",
      "Hint: Your EncryptedID is reverse of your ReferenceID with added special characters '@!@' at 7th position.\n"
     ]
    }
   ],
   "source": [
    "\"\"\"\"Build a system where when user enters Reference ID it is encrypted.\n",
    "So that hackers cannot view the mapping of Reference ID and finger print\"\"\"\n",
    "\n",
    "def validateString(ID):\n",
    "    letter_flag = False\n",
    "    number_flag = False\n",
    "    for i in ID:\n",
    "        if i.isalpha():\n",
    "            letter_flag = True\n",
    "        if i.isdigit():\n",
    "            number_flag = True\n",
    "    return letter_flag and number_flag\n",
    "ID=input(\"Enter your 12 digits Alphanumeric Reference ID: \")\n",
    "if (len(ID)!=12):\n",
    "    print(\"Please enter your 12 digit Reference ID\")\n",
    "else:\n",
    "    if validateString(ID)==True:\n",
    "        print(\"Refernce ID is perfect: \", ID)\n",
    "        reverseID=ID[::-1]\n",
    "        newID=list(reverseID)\n",
    "        newID.insert(6,\"@!@\")\n",
    "        for i in newID:\n",
    "            EncryptedID=''.join(newID)\n",
    "        print(\"Your EncryptedID is:\",EncryptedID)\n",
    "        print(\"Hint: Your EncryptedID is reverse of your ReferenceID with added special characters '@!@' at 7th position.\")\n",
    "    else:\n",
    "        print(\"Refernce ID should have digits and letters\")"
   ]
  },
  {
   "cell_type": "code",
   "execution_count": null,
   "metadata": {},
   "outputs": [],
   "source": []
  }
 ],
 "metadata": {
  "kernelspec": {
   "display_name": "Python 3",
   "language": "python",
   "name": "python3"
  },
  "language_info": {
   "codemirror_mode": {
    "name": "ipython",
    "version": 3
   },
   "file_extension": ".py",
   "mimetype": "text/x-python",
   "name": "python",
   "nbconvert_exporter": "python",
   "pygments_lexer": "ipython3",
   "version": "3.7.3"
  }
 },
 "nbformat": 4,
 "nbformat_minor": 2
}
