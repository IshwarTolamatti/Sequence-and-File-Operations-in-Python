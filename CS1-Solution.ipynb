{
 "cells": [
  {
   "cell_type": "code",
   "execution_count": 4,
   "metadata": {},
   "outputs": [
    {
     "name": "stdout",
     "output_type": "stream",
     "text": [
      "Enter any number:8\n",
      "The factors of 8 are:\n",
      "1\n",
      "2\n",
      "4\n",
      "8\n"
     ]
    }
   ],
   "source": [
    "#1.\n",
    "y=int(input(\"Enter any number:\"))\n",
    "print(\"The factors of\",y,\"are:\")\n",
    "for i in range(1, y + 1):\n",
    "    if y % i == 0:\n",
    "        print(i)"
   ]
  },
  {
   "cell_type": "code",
   "execution_count": 8,
   "metadata": {},
   "outputs": [
    {
     "name": "stdout",
     "output_type": "stream",
     "text": [
      "Enter any number:Ishwar\n",
      "['a', 'h', 'i', 'r', 's', 'w']\n"
     ]
    }
   ],
   "source": [
    "#2.\n",
    "String=input(\"Enter any number:\")\n",
    "String=String.lower()\n",
    "mylist=list(String)\n",
    "mylist.sort()\n",
    "print(mylist)"
   ]
  },
  {
   "cell_type": "code",
   "execution_count": 9,
   "metadata": {},
   "outputs": [],
   "source": [
    "#3.\n"
   ]
  },
  {
   "cell_type": "code",
   "execution_count": 11,
   "metadata": {},
   "outputs": [
    {
     "name": "stdout",
     "output_type": "stream",
     "text": [
      "Enter string:Hello Github 123\n",
      "The number of digits is:\n",
      "3\n",
      "The number of characters is:\n",
      "13\n"
     ]
    }
   ],
   "source": [
    "#4.\n",
    "String=input(\"Enter string:\")\n",
    "count1=0\n",
    "count2=0\n",
    "for i in String:\n",
    "    if(i.isdigit()):\n",
    "        count1=count1+1\n",
    "    else:\n",
    "        count2=count2+1\n",
    "print(\"The number of digits is:\")\n",
    "print(count1)\n",
    "print(\"The number of characters is:\")\n",
    "print(count2)"
   ]
  },
  {
   "cell_type": "code",
   "execution_count": 14,
   "metadata": {},
   "outputs": [
    {
     "name": "stdout",
     "output_type": "stream",
     "text": [
      "Enter string: MADAM\n",
      "Palindrome\n"
     ]
    }
   ],
   "source": [
    "#5.\n",
    "String=input(\"Enter string: \").lower()\n",
    "if String==String[::-1]:\n",
    "    print(\"Palindrome\")\n",
    "else:\n",
    "    print(\"Not Palindrome\")"
   ]
  },
  {
   "cell_type": "code",
   "execution_count": null,
   "metadata": {},
   "outputs": [],
   "source": []
  }
 ],
 "metadata": {
  "kernelspec": {
   "display_name": "Python 3",
   "language": "python",
   "name": "python3"
  },
  "language_info": {
   "codemirror_mode": {
    "name": "ipython",
    "version": 3
   },
   "file_extension": ".py",
   "mimetype": "text/x-python",
   "name": "python",
   "nbconvert_exporter": "python",
   "pygments_lexer": "ipython3",
   "version": "3.7.3"
  }
 },
 "nbformat": 4,
 "nbformat_minor": 2
}
