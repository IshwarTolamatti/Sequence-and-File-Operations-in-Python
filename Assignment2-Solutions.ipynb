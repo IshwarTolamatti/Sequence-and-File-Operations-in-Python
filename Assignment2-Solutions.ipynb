{
 "cells": [
  {
   "cell_type": "code",
   "execution_count": 4,
   "metadata": {},
   "outputs": [
    {
     "name": "stdout",
     "output_type": "stream",
     "text": [
      "4\n"
     ]
    }
   ],
   "source": [
    "#1.\n",
    "nums = set([1,1,2,3,3,3,4,4]) \n",
    "print(len(nums))"
   ]
  },
  {
   "cell_type": "code",
   "execution_count": 5,
   "metadata": {},
   "outputs": [
    {
     "name": "stdout",
     "output_type": "stream",
     "text": [
      "['john', 'peter']\n"
     ]
    }
   ],
   "source": [
    "#2.\n",
    "d = {\"john\":40, \"peter\":45} \n",
    "print(list(d.keys()))"
   ]
  },
  {
   "cell_type": "code",
   "execution_count": 6,
   "metadata": {},
   "outputs": [],
   "source": [
    "#3.\n"
   ]
  },
  {
   "cell_type": "code",
   "execution_count": 36,
   "metadata": {},
   "outputs": [
    {
     "name": "stdout",
     "output_type": "stream",
     "text": [
      "4 0\n",
      "7 1\n",
      "3 2\n",
      "2 3\n",
      "5 4\n",
      "9 5\n"
     ]
    }
   ],
   "source": [
    "#4.\n",
    "mylist=[4,7,3,2,5,9]\n",
    "for i in mylist:\n",
    "    print(i, mylist.index(i))"
   ]
  },
  {
   "cell_type": "code",
   "execution_count": 9,
   "metadata": {},
   "outputs": [
    {
     "name": "stdout",
     "output_type": "stream",
     "text": [
      "Please enter your quote:H1e2l3l4o5w6o7r8l9d\n",
      "Helloworld\n"
     ]
    }
   ],
   "source": [
    "#5.\n",
    "String = input(\"Please enter your quote:\")\n",
    "print(String[::2])"
   ]
  },
  {
   "cell_type": "code",
   "execution_count": 10,
   "metadata": {},
   "outputs": [
    {
     "name": "stdout",
     "output_type": "stream",
     "text": [
      "Please enter your quote:rise to vote sir\n",
      "ris etov ot esir\n"
     ]
    }
   ],
   "source": [
    "#6.\n",
    "String = input(\"Please enter your quote:\")\n",
    "print(String[::-1])"
   ]
  },
  {
   "cell_type": "code",
   "execution_count": 11,
   "metadata": {},
   "outputs": [
    {
     "name": "stdout",
     "output_type": "stream",
     "text": [
      "Please enter your quote:abcdefgabc\n",
      "a,2\n",
      "b,2\n",
      "c,2\n",
      "d,1\n",
      "e,1\n",
      "f,1\n",
      "g,1\n"
     ]
    }
   ],
   "source": [
    "#7.\n",
    "String = input(\"Please enter your quote:\")\n",
    "String=String.lower()\n",
    "emptylist=[]\n",
    "a=0\n",
    "for i in String:\n",
    "    if i not in emptylist:\n",
    "        emptylist.append(i)\n",
    "        a=String.count(i)\n",
    "        print(i+\",\"+str(a))"
   ]
  },
  {
   "cell_type": "code",
   "execution_count": 13,
   "metadata": {},
   "outputs": [
    {
     "name": "stdout",
     "output_type": "stream",
     "text": [
      "[3, 6, 8, 10]\n"
     ]
    }
   ],
   "source": [
    "#8.\n",
    "list1 = [1,3,6,7,8,10,15]\n",
    "list2 = [12,3,6,8,10,13]\n",
    "list3=[]\n",
    "for i in list1:\n",
    "    if i in list2:\n",
    "        list3.append(i)\n",
    "print(list3)"
   ]
  },
  {
   "cell_type": "code",
   "execution_count": 14,
   "metadata": {},
   "outputs": [
    {
     "name": "stdout",
     "output_type": "stream",
     "text": [
      "[12, 35, 24, 88, 120, 155]\n"
     ]
    }
   ],
   "source": [
    "#9.\n",
    "list1 = [12,24,35,24,88,120,155]\n",
    "list2 = []\n",
    "list2=list1[:1]\n",
    "list2=list2+list1[2:]\n",
    "print(list2)"
   ]
  },
  {
   "cell_type": "code",
   "execution_count": 15,
   "metadata": {},
   "outputs": [
    {
     "name": "stdout",
     "output_type": "stream",
     "text": [
      "[24, 35, 24, 155]\n"
     ]
    }
   ],
   "source": [
    "#10.\n",
    "list1 = [12,24,35,24,88,120,155]\n",
    "list2 = []\n",
    "list2=list1[1:4]\n",
    "list2=list2+list1[6:]\n",
    "print(list2)"
   ]
  },
  {
   "cell_type": "code",
   "execution_count": 19,
   "metadata": {},
   "outputs": [
    {
     "name": "stdout",
     "output_type": "stream",
     "text": [
      "[12, 24, 24, 88]\n"
     ]
    }
   ],
   "source": [
    "#11.\n",
    "list1 = [12,24,35,24,88,120,155]\n",
    "list2 = []\n",
    "list3 = []\n",
    "for i in list1:\n",
    "    if i%5==0 or i%7==0:\n",
    "        list2.append(i)\n",
    "    else:\n",
    "        list3.append(i)\n",
    "print(list3)"
   ]
  },
  {
   "cell_type": "code",
   "execution_count": 20,
   "metadata": {},
   "outputs": [],
   "source": [
    "#12.\n"
   ]
  },
  {
   "cell_type": "code",
   "execution_count": null,
   "metadata": {},
   "outputs": [],
   "source": []
  }
 ],
 "metadata": {
  "kernelspec": {
   "display_name": "Python 3",
   "language": "python",
   "name": "python3"
  },
  "language_info": {
   "codemirror_mode": {
    "name": "ipython",
    "version": 3
   },
   "file_extension": ".py",
   "mimetype": "text/x-python",
   "name": "python",
   "nbconvert_exporter": "python",
   "pygments_lexer": "ipython3",
   "version": "3.7.3"
  }
 },
 "nbformat": 4,
 "nbformat_minor": 2
}
